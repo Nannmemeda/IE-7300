{
 "cells": [
  {
   "cell_type": "markdown",
   "id": "3382b995",
   "metadata": {},
   "source": [
    "# Assignment 3 - Xinan Wang"
   ]
  },
  {
   "cell_type": "markdown",
   "id": "43807c7b",
   "metadata": {},
   "source": [
    "## Question 1\n",
    "\n",
    "### 1. Create a custom linear regression model using the house pricing dataset(houseprices.csv  Download houseprices.csv) (20 points)\n",
    "\n",
    " a) Split the dataset into training and test dataset 80:20\n",
    "\n",
    " b) Custom linear regression model should be in python class format (Should have init(), predict(), train() methods) and train the model using training dataset\n",
    "\n",
    " c) Predict the house prices using test dataset\n",
    "\n",
    " d) Show the predicted output, and loss function output plots\n",
    "\n",
    " e) Calculate the RMSE and R2 metrics\n",
    "\n",
    "Note: Do not use any libraries"
   ]
  },
  {
   "cell_type": "code",
   "execution_count": 328,
   "id": "9c8f7ca9",
   "metadata": {},
   "outputs": [],
   "source": [
    "import pandas as pd\n",
    "import numpy as np\n",
    "import matplotlib.pyplot as plt\n",
    "%matplotlib inline"
   ]
  },
  {
   "cell_type": "code",
   "execution_count": 382,
   "id": "ac083d0f",
   "metadata": {
    "scrolled": true
   },
   "outputs": [
    {
     "data": {
      "text/html": [
       "<div>\n",
       "<style scoped>\n",
       "    .dataframe tbody tr th:only-of-type {\n",
       "        vertical-align: middle;\n",
       "    }\n",
       "\n",
       "    .dataframe tbody tr th {\n",
       "        vertical-align: top;\n",
       "    }\n",
       "\n",
       "    .dataframe thead th {\n",
       "        text-align: right;\n",
       "    }\n",
       "</style>\n",
       "<table border=\"1\" class=\"dataframe\">\n",
       "  <thead>\n",
       "    <tr style=\"text-align: right;\">\n",
       "      <th></th>\n",
       "      <th>Home</th>\n",
       "      <th>Price</th>\n",
       "      <th>SqFt</th>\n",
       "      <th>Bedrooms</th>\n",
       "      <th>Bathrooms</th>\n",
       "      <th>Offers</th>\n",
       "      <th>Brick</th>\n",
       "      <th>Neighborhood</th>\n",
       "    </tr>\n",
       "  </thead>\n",
       "  <tbody>\n",
       "    <tr>\n",
       "      <th>0</th>\n",
       "      <td>1</td>\n",
       "      <td>114300</td>\n",
       "      <td>1790</td>\n",
       "      <td>2</td>\n",
       "      <td>2</td>\n",
       "      <td>2</td>\n",
       "      <td>No</td>\n",
       "      <td>East</td>\n",
       "    </tr>\n",
       "    <tr>\n",
       "      <th>1</th>\n",
       "      <td>2</td>\n",
       "      <td>114200</td>\n",
       "      <td>2030</td>\n",
       "      <td>4</td>\n",
       "      <td>2</td>\n",
       "      <td>3</td>\n",
       "      <td>No</td>\n",
       "      <td>East</td>\n",
       "    </tr>\n",
       "    <tr>\n",
       "      <th>2</th>\n",
       "      <td>3</td>\n",
       "      <td>114800</td>\n",
       "      <td>1740</td>\n",
       "      <td>3</td>\n",
       "      <td>2</td>\n",
       "      <td>1</td>\n",
       "      <td>No</td>\n",
       "      <td>East</td>\n",
       "    </tr>\n",
       "    <tr>\n",
       "      <th>3</th>\n",
       "      <td>4</td>\n",
       "      <td>94700</td>\n",
       "      <td>1980</td>\n",
       "      <td>3</td>\n",
       "      <td>2</td>\n",
       "      <td>3</td>\n",
       "      <td>No</td>\n",
       "      <td>East</td>\n",
       "    </tr>\n",
       "    <tr>\n",
       "      <th>4</th>\n",
       "      <td>5</td>\n",
       "      <td>119800</td>\n",
       "      <td>2130</td>\n",
       "      <td>3</td>\n",
       "      <td>3</td>\n",
       "      <td>3</td>\n",
       "      <td>No</td>\n",
       "      <td>East</td>\n",
       "    </tr>\n",
       "    <tr>\n",
       "      <th>...</th>\n",
       "      <td>...</td>\n",
       "      <td>...</td>\n",
       "      <td>...</td>\n",
       "      <td>...</td>\n",
       "      <td>...</td>\n",
       "      <td>...</td>\n",
       "      <td>...</td>\n",
       "      <td>...</td>\n",
       "    </tr>\n",
       "    <tr>\n",
       "      <th>123</th>\n",
       "      <td>124</td>\n",
       "      <td>119700</td>\n",
       "      <td>1900</td>\n",
       "      <td>3</td>\n",
       "      <td>3</td>\n",
       "      <td>3</td>\n",
       "      <td>Yes</td>\n",
       "      <td>East</td>\n",
       "    </tr>\n",
       "    <tr>\n",
       "      <th>124</th>\n",
       "      <td>125</td>\n",
       "      <td>147900</td>\n",
       "      <td>2160</td>\n",
       "      <td>4</td>\n",
       "      <td>3</td>\n",
       "      <td>3</td>\n",
       "      <td>Yes</td>\n",
       "      <td>East</td>\n",
       "    </tr>\n",
       "    <tr>\n",
       "      <th>125</th>\n",
       "      <td>126</td>\n",
       "      <td>113500</td>\n",
       "      <td>2070</td>\n",
       "      <td>2</td>\n",
       "      <td>2</td>\n",
       "      <td>2</td>\n",
       "      <td>No</td>\n",
       "      <td>North</td>\n",
       "    </tr>\n",
       "    <tr>\n",
       "      <th>126</th>\n",
       "      <td>127</td>\n",
       "      <td>149900</td>\n",
       "      <td>2020</td>\n",
       "      <td>3</td>\n",
       "      <td>3</td>\n",
       "      <td>1</td>\n",
       "      <td>No</td>\n",
       "      <td>West</td>\n",
       "    </tr>\n",
       "    <tr>\n",
       "      <th>127</th>\n",
       "      <td>128</td>\n",
       "      <td>124600</td>\n",
       "      <td>2250</td>\n",
       "      <td>3</td>\n",
       "      <td>3</td>\n",
       "      <td>4</td>\n",
       "      <td>No</td>\n",
       "      <td>North</td>\n",
       "    </tr>\n",
       "  </tbody>\n",
       "</table>\n",
       "<p>128 rows × 8 columns</p>\n",
       "</div>"
      ],
      "text/plain": [
       "     Home   Price  SqFt  Bedrooms  Bathrooms  Offers Brick Neighborhood\n",
       "0       1  114300  1790         2          2       2    No         East\n",
       "1       2  114200  2030         4          2       3    No         East\n",
       "2       3  114800  1740         3          2       1    No         East\n",
       "3       4   94700  1980         3          2       3    No         East\n",
       "4       5  119800  2130         3          3       3    No         East\n",
       "..    ...     ...   ...       ...        ...     ...   ...          ...\n",
       "123   124  119700  1900         3          3       3   Yes         East\n",
       "124   125  147900  2160         4          3       3   Yes         East\n",
       "125   126  113500  2070         2          2       2    No        North\n",
       "126   127  149900  2020         3          3       1    No         West\n",
       "127   128  124600  2250         3          3       4    No        North\n",
       "\n",
       "[128 rows x 8 columns]"
      ]
     },
     "execution_count": 382,
     "metadata": {},
     "output_type": "execute_result"
    }
   ],
   "source": [
    "dfdata = pd.read_csv(\"houseprices.csv\")\n",
    "dfdata"
   ]
  },
  {
   "cell_type": "markdown",
   "id": "7a320df5",
   "metadata": {},
   "source": [
    "For this dataset, we want to use SqFt, Bedrooms....and so many features to predict the houses' price"
   ]
  },
  {
   "cell_type": "markdown",
   "id": "abbe9848",
   "metadata": {},
   "source": [
    "(a) Split the dataset into training and test dataset 80:20"
   ]
  },
  {
   "cell_type": "markdown",
   "id": "8be238e9",
   "metadata": {},
   "source": [
    "We need to define the X(features) and Y(labels)"
   ]
  },
  {
   "cell_type": "code",
   "execution_count": 401,
   "id": "d48d4e22",
   "metadata": {
    "scrolled": true
   },
   "outputs": [],
   "source": [
    "# Define features and labels\n",
    "Y = dfdata.iloc[:,1].values\n",
    "X = dfdata.iloc[:,2:].values"
   ]
  },
  {
   "cell_type": "markdown",
   "id": "2b8537e1",
   "metadata": {},
   "source": [
    "By looking at the dataset, we found that Brick variable and the Neighborhood variables are both categorical variables. So, we need to convert the text data to the numbers first"
   ]
  },
  {
   "cell_type": "code",
   "execution_count": 403,
   "id": "77c20cf3",
   "metadata": {
    "scrolled": true
   },
   "outputs": [],
   "source": [
    "# Convert text data to numbers\n",
    "from sklearn.compose import ColumnTransformer\n",
    "from sklearn.preprocessing import OneHotEncoder\n",
    "ct = ColumnTransformer(transformers=[('encoder', OneHotEncoder(), [4,5])], remainder='passthrough')\n",
    "X = np.array(ct.fit_transform(X))"
   ]
  },
  {
   "cell_type": "markdown",
   "id": "84e0ba69",
   "metadata": {},
   "source": [
    "We need to scale the dataset to let the numbers close to each other"
   ]
  },
  {
   "cell_type": "code",
   "execution_count": 404,
   "id": "028695e2",
   "metadata": {
    "scrolled": false
   },
   "outputs": [],
   "source": [
    "# Scale the dataset\n",
    "from sklearn.preprocessing import StandardScaler\n",
    "sc = StandardScaler()\n",
    "X = sc.fit_transform(X)"
   ]
  },
  {
   "cell_type": "markdown",
   "id": "163cabb2",
   "metadata": {},
   "source": [
    "We now need to split the dataset into training dataset and testing dataset at 80:20"
   ]
  },
  {
   "cell_type": "code",
   "execution_count": 405,
   "id": "3c728868",
   "metadata": {},
   "outputs": [],
   "source": [
    "# Split the dataset into training and testing\n",
    "from sklearn.model_selection import train_test_split\n",
    "Xtrain, Xtest, Ytrain, Ytest = train_test_split( X, Y, test_size = 0.2,random_state=42)"
   ]
  },
  {
   "cell_type": "markdown",
   "id": "64656d65",
   "metadata": {},
   "source": [
    "(b) Custom linear regression model should be in python class format (Should have init(), predict(), train() methods) and train the model using training dataset"
   ]
  },
  {
   "cell_type": "code",
   "execution_count": 406,
   "id": "89c63baf",
   "metadata": {},
   "outputs": [],
   "source": [
    "class LinearRegression():\n",
    "    def __init__(self, b = 0, alpha = 0.002, iterations = 10000):\n",
    "        \"\"\"Initialize Linear regression model.\n",
    "\n",
    "        Parameters\n",
    "        ----------\n",
    "        param1: b\n",
    "        param2: alpha\n",
    "        param3: iterations\n",
    "        \"\"\"\n",
    "        self.b = b\n",
    "        self.alpha = alpha\n",
    "        self.iterations = iterations\n",
    "\n",
    "    def train(self, x, y):\n",
    "        \"\"\"Train the dataset by using x data(features) and y data(label)\n",
    "\n",
    "        Parameters\n",
    "        ----------\n",
    "        param1: x\n",
    "        param2: y\n",
    "        \"\"\"\n",
    "        cost_list = [0] * self.iterations\n",
    "        \n",
    "        w = np.zeros(x.shape[1])\n",
    "        b = self.b\n",
    "        alpha = self.alpha\n",
    "   \n",
    "        for iteration in range(self.iterations):\n",
    "            z = x.dot(w) + b\n",
    "            loss = z - y\n",
    "        \n",
    "            weight_gradient = x.T.dot(loss) / len(y)\n",
    "            bias_gradient = np.sum(loss) / len(y)\n",
    "        \n",
    "            w = w - alpha*weight_gradient\n",
    "            b = b - alpha*bias_gradient\n",
    "  \n",
    "            cost = np.sum((((x.dot(w) + b) - y) ** 2) / (2*len(y)))\n",
    "            cost_list[iteration] = cost\n",
    "        \n",
    "            if (iteration%(self.iterations/10)==0):\n",
    "                print(\"Cost at epoch\",iteration,\"is:\",cost)\n",
    "        \n",
    "        return w, b, cost_list\n",
    "\n",
    "    def predict(self,Xdata,w,b):\n",
    "        \"\"\"Predict the input dataset value\n",
    "\n",
    "        Parameters\n",
    "        ----------\n",
    "        param1: Xdata\n",
    "        param2: w\n",
    "        param3: b\n",
    "        \"\"\"\n",
    "        predictions = Xdata.dot(w) + b\n",
    "        return predictions"
   ]
  },
  {
   "cell_type": "markdown",
   "id": "517c75e0",
   "metadata": {},
   "source": [
    "Now, we need to import data into the linear regression model and train the model using the training dataset"
   ]
  },
  {
   "cell_type": "code",
   "execution_count": 407,
   "id": "1a1c4186",
   "metadata": {},
   "outputs": [
    {
     "name": "stdout",
     "output_type": "stream",
     "text": [
      "Cost at epoch 0 is: 8883416892.602966\n",
      "Cost at epoch 1000 is: 213012206.4665215\n",
      "Cost at epoch 2000 is: 50115891.39089476\n",
      "Cost at epoch 3000 is: 45562176.08161147\n",
      "Cost at epoch 4000 is: 45266560.57099985\n",
      "Cost at epoch 5000 is: 45227340.91289041\n",
      "Cost at epoch 6000 is: 45220529.31173113\n",
      "Cost at epoch 7000 is: 45219158.72561496\n",
      "Cost at epoch 8000 is: 45218847.238012865\n",
      "Cost at epoch 9000 is: 45218769.4310251\n"
     ]
    }
   ],
   "source": [
    "# Train the model using the train dataset\n",
    "linear_regression = LinearRegression()\n",
    "w,b,cost_list = linear_regression.train(Xtrain,Ytrain)"
   ]
  },
  {
   "cell_type": "markdown",
   "id": "da42fdbf",
   "metadata": {},
   "source": [
    "c) Predict the house prices using test dataset"
   ]
  },
  {
   "cell_type": "markdown",
   "id": "e60f21fc",
   "metadata": {},
   "source": [
    "We use the predict method in the linear regression class to predict the Y value of the Xtest dataset, and we want to use Ytest to find our model performance"
   ]
  },
  {
   "cell_type": "code",
   "execution_count": 408,
   "id": "983a0530",
   "metadata": {
    "scrolled": false
   },
   "outputs": [
    {
     "data": {
      "text/plain": [
       "array([116006.1012073 ,  98261.13011192, 160645.26977742, 129954.10409523,\n",
       "       153767.85021432, 139090.31802715, 148518.85914532,  97115.1288374 ,\n",
       "       177414.93268991, 136795.21092688, 169461.36043892, 101726.67346404,\n",
       "       133329.66757477, 125709.92815581, 144139.59111034, 129258.11065115,\n",
       "       110200.61331483, 137509.84668521, 121496.21319019,  80250.34656971,\n",
       "       123365.1682017 , 129578.23392158, 126285.58436816, 124923.68005627,\n",
       "       166723.51818463,  99718.15377902])"
      ]
     },
     "execution_count": 408,
     "metadata": {},
     "output_type": "execute_result"
    }
   ],
   "source": [
    "# Using test dataset to predict the house prices\n",
    "YPredict = linear_regression.predict(Xtest,w,b)\n",
    "YPredict"
   ]
  },
  {
   "cell_type": "markdown",
   "id": "e910c04b",
   "metadata": {},
   "source": [
    "Here, we used our linear regression model to find the predicted Y values by using our X test dataset features."
   ]
  },
  {
   "cell_type": "markdown",
   "id": "b3ddf00f",
   "metadata": {},
   "source": [
    "d) Show the predicted output, and loss function output plots"
   ]
  },
  {
   "cell_type": "code",
   "execution_count": 409,
   "id": "a505b1c2",
   "metadata": {
    "scrolled": true
   },
   "outputs": [
    {
     "data": {
      "text/plain": [
       "[<matplotlib.lines.Line2D at 0x7ff618b91be0>]"
      ]
     },
     "execution_count": 409,
     "metadata": {},
     "output_type": "execute_result"
    },
    {
     "data": {
      "image/png": "[encoded data removed]",
      "text/plain": [
       "<Figure size 432x288 with 1 Axes>"
      ]
     },
     "metadata": {
      "needs_background": "light"
     },
     "output_type": "display_data"
    }
   ],
   "source": [
    "# Predicted output\n",
    "plt.plot(YPredict)"
   ]
  },
  {
   "cell_type": "code",
   "execution_count": 410,
   "id": "d93d46d1",
   "metadata": {
    "scrolled": true
   },
   "outputs": [
    {
     "data": {
      "text/plain": [
       "[<matplotlib.lines.Line2D at 0x7ff62a750250>]"
      ]
     },
     "execution_count": 410,
     "metadata": {},
     "output_type": "execute_result"
    },
    {
     "data": {
      "image/png": "[encoded data removed]",
      "text/plain": [
       "<Figure size 432x288 with 1 Axes>"
      ]
     },
     "metadata": {
      "needs_background": "light"
     },
     "output_type": "display_data"
    }
   ],
   "source": [
    "# Loss function output\n",
    "plt.plot(cost_list)"
   ]
  },
  {
   "cell_type": "markdown",
   "id": "9e84420c",
   "metadata": {},
   "source": [
    "From the loss function output, we can find that the cost function was initially to be very large at the beginning of our model. However, it decreases very fast and then finally converge to y = 0 line."
   ]
  },
  {
   "cell_type": "markdown",
   "id": "a780d7af",
   "metadata": {},
   "source": [
    "e) Calculate the RMSE and R2 metrics"
   ]
  },
  {
   "cell_type": "markdown",
   "id": "3af00600",
   "metadata": {},
   "source": [
    "RMSE"
   ]
  },
  {
   "cell_type": "code",
   "execution_count": 411,
   "id": "48f47578",
   "metadata": {},
   "outputs": [],
   "source": [
    "from math import sqrt\n",
    "def RMSE(YPredict, YTest):\n",
    "    return sqrt(np.sum((YTest - YPredict)**2)/YTest.shape[0])"
   ]
  },
  {
   "cell_type": "code",
   "execution_count": 412,
   "id": "e0d01600",
   "metadata": {},
   "outputs": [
    {
     "data": {
      "text/plain": [
       "10683.698008960784"
      ]
     },
     "execution_count": 412,
     "metadata": {},
     "output_type": "execute_result"
    }
   ],
   "source": [
    "RMSE(YPredict,Ytest)"
   ]
  },
  {
   "cell_type": "markdown",
   "id": "11193bb6",
   "metadata": {},
   "source": [
    "R2 metrics"
   ]
  },
  {
   "cell_type": "code",
   "execution_count": 413,
   "id": "937fcd7a",
   "metadata": {},
   "outputs": [],
   "source": [
    "def r2score(y_pred, y):\n",
    "    rss = np.sum((y_pred - y) ** 2)\n",
    "    tss = np.sum((y-y.mean()) ** 2)\n",
    "    \n",
    "    r2 = 1 - (rss / tss)\n",
    "    return r2"
   ]
  },
  {
   "cell_type": "code",
   "execution_count": 414,
   "id": "0d1adaa5",
   "metadata": {},
   "outputs": [
    {
     "data": {
      "text/plain": [
       "0.806342690866721"
      ]
     },
     "execution_count": 414,
     "metadata": {},
     "output_type": "execute_result"
    }
   ],
   "source": [
    "# r2score for YPredict and the real Y\n",
    "r2score(YPredict,Ytest)"
   ]
  },
  {
   "cell_type": "markdown",
   "id": "f62fa1a2",
   "metadata": {},
   "source": [
    "By using the R2 metrics, we find that the model has around 70.91% accuracy to the Xtest dataset, which is a pretty good performance."
   ]
  },
  {
   "cell_type": "markdown",
   "id": "ed713c88",
   "metadata": {},
   "source": [
    "## Question 2\n",
    "\n",
    "### 2. Perform model selection using subset best, forward selection, and backward selection methods (15 points)\n",
    "\n",
    "a) Show your best model features\n",
    "\n",
    "c) Compare your model performance against the model Q1"
   ]
  },
  {
   "cell_type": "code",
   "execution_count": 190,
   "id": "11bc5499",
   "metadata": {},
   "outputs": [],
   "source": [
    "%matplotlib inline\n",
    "import pandas as pd\n",
    "import numpy as np\n",
    "import itertools\n",
    "import time\n",
    "import statsmodels.api as sm\n",
    "import matplotlib.pyplot as plt"
   ]
  },
  {
   "cell_type": "markdown",
   "id": "472f8956",
   "metadata": {},
   "source": [
    "(a)Show your best model features"
   ]
  },
  {
   "cell_type": "markdown",
   "id": "47e6d6b7",
   "metadata": {},
   "source": [
    "Subset Best"
   ]
  },
  {
   "cell_type": "code",
   "execution_count": 388,
   "id": "11d3ae41",
   "metadata": {
    "scrolled": true
   },
   "outputs": [
    {
     "data": {
      "text/html": [
       "<div>\n",
       "<style scoped>\n",
       "    .dataframe tbody tr th:only-of-type {\n",
       "        vertical-align: middle;\n",
       "    }\n",
       "\n",
       "    .dataframe tbody tr th {\n",
       "        vertical-align: top;\n",
       "    }\n",
       "\n",
       "    .dataframe thead th {\n",
       "        text-align: right;\n",
       "    }\n",
       "</style>\n",
       "<table border=\"1\" class=\"dataframe\">\n",
       "  <thead>\n",
       "    <tr style=\"text-align: right;\">\n",
       "      <th></th>\n",
       "      <th>Home</th>\n",
       "      <th>Price</th>\n",
       "      <th>SqFt</th>\n",
       "      <th>Bedrooms</th>\n",
       "      <th>Bathrooms</th>\n",
       "      <th>Offers</th>\n",
       "      <th>Brick</th>\n",
       "      <th>Neighborhood</th>\n",
       "    </tr>\n",
       "  </thead>\n",
       "  <tbody>\n",
       "    <tr>\n",
       "      <th>0</th>\n",
       "      <td>1</td>\n",
       "      <td>114300</td>\n",
       "      <td>1790</td>\n",
       "      <td>2</td>\n",
       "      <td>2</td>\n",
       "      <td>2</td>\n",
       "      <td>No</td>\n",
       "      <td>East</td>\n",
       "    </tr>\n",
       "    <tr>\n",
       "      <th>1</th>\n",
       "      <td>2</td>\n",
       "      <td>114200</td>\n",
       "      <td>2030</td>\n",
       "      <td>4</td>\n",
       "      <td>2</td>\n",
       "      <td>3</td>\n",
       "      <td>No</td>\n",
       "      <td>East</td>\n",
       "    </tr>\n",
       "    <tr>\n",
       "      <th>2</th>\n",
       "      <td>3</td>\n",
       "      <td>114800</td>\n",
       "      <td>1740</td>\n",
       "      <td>3</td>\n",
       "      <td>2</td>\n",
       "      <td>1</td>\n",
       "      <td>No</td>\n",
       "      <td>East</td>\n",
       "    </tr>\n",
       "    <tr>\n",
       "      <th>3</th>\n",
       "      <td>4</td>\n",
       "      <td>94700</td>\n",
       "      <td>1980</td>\n",
       "      <td>3</td>\n",
       "      <td>2</td>\n",
       "      <td>3</td>\n",
       "      <td>No</td>\n",
       "      <td>East</td>\n",
       "    </tr>\n",
       "    <tr>\n",
       "      <th>4</th>\n",
       "      <td>5</td>\n",
       "      <td>119800</td>\n",
       "      <td>2130</td>\n",
       "      <td>3</td>\n",
       "      <td>3</td>\n",
       "      <td>3</td>\n",
       "      <td>No</td>\n",
       "      <td>East</td>\n",
       "    </tr>\n",
       "    <tr>\n",
       "      <th>...</th>\n",
       "      <td>...</td>\n",
       "      <td>...</td>\n",
       "      <td>...</td>\n",
       "      <td>...</td>\n",
       "      <td>...</td>\n",
       "      <td>...</td>\n",
       "      <td>...</td>\n",
       "      <td>...</td>\n",
       "    </tr>\n",
       "    <tr>\n",
       "      <th>123</th>\n",
       "      <td>124</td>\n",
       "      <td>119700</td>\n",
       "      <td>1900</td>\n",
       "      <td>3</td>\n",
       "      <td>3</td>\n",
       "      <td>3</td>\n",
       "      <td>Yes</td>\n",
       "      <td>East</td>\n",
       "    </tr>\n",
       "    <tr>\n",
       "      <th>124</th>\n",
       "      <td>125</td>\n",
       "      <td>147900</td>\n",
       "      <td>2160</td>\n",
       "      <td>4</td>\n",
       "      <td>3</td>\n",
       "      <td>3</td>\n",
       "      <td>Yes</td>\n",
       "      <td>East</td>\n",
       "    </tr>\n",
       "    <tr>\n",
       "      <th>125</th>\n",
       "      <td>126</td>\n",
       "      <td>113500</td>\n",
       "      <td>2070</td>\n",
       "      <td>2</td>\n",
       "      <td>2</td>\n",
       "      <td>2</td>\n",
       "      <td>No</td>\n",
       "      <td>North</td>\n",
       "    </tr>\n",
       "    <tr>\n",
       "      <th>126</th>\n",
       "      <td>127</td>\n",
       "      <td>149900</td>\n",
       "      <td>2020</td>\n",
       "      <td>3</td>\n",
       "      <td>3</td>\n",
       "      <td>1</td>\n",
       "      <td>No</td>\n",
       "      <td>West</td>\n",
       "    </tr>\n",
       "    <tr>\n",
       "      <th>127</th>\n",
       "      <td>128</td>\n",
       "      <td>124600</td>\n",
       "      <td>2250</td>\n",
       "      <td>3</td>\n",
       "      <td>3</td>\n",
       "      <td>4</td>\n",
       "      <td>No</td>\n",
       "      <td>North</td>\n",
       "    </tr>\n",
       "  </tbody>\n",
       "</table>\n",
       "<p>128 rows × 8 columns</p>\n",
       "</div>"
      ],
      "text/plain": [
       "     Home   Price  SqFt  Bedrooms  Bathrooms  Offers Brick Neighborhood\n",
       "0       1  114300  1790         2          2       2    No         East\n",
       "1       2  114200  2030         4          2       3    No         East\n",
       "2       3  114800  1740         3          2       1    No         East\n",
       "3       4   94700  1980         3          2       3    No         East\n",
       "4       5  119800  2130         3          3       3    No         East\n",
       "..    ...     ...   ...       ...        ...     ...   ...          ...\n",
       "123   124  119700  1900         3          3       3   Yes         East\n",
       "124   125  147900  2160         4          3       3   Yes         East\n",
       "125   126  113500  2070         2          2       2    No        North\n",
       "126   127  149900  2020         3          3       1    No         West\n",
       "127   128  124600  2250         3          3       4    No        North\n",
       "\n",
       "[128 rows x 8 columns]"
      ]
     },
     "execution_count": 388,
     "metadata": {},
     "output_type": "execute_result"
    }
   ],
   "source": [
    "dfdata = pd.read_csv(\"houseprices.csv\")\n",
    "dfdata"
   ]
  },
  {
   "cell_type": "markdown",
   "id": "1a70c4c0",
   "metadata": {},
   "source": [
    "We need to check the null value"
   ]
  },
  {
   "cell_type": "code",
   "execution_count": 368,
   "id": "ce7a1e6d",
   "metadata": {
    "scrolled": true
   },
   "outputs": [
    {
     "name": "stdout",
     "output_type": "stream",
     "text": [
      "Number of null values: 0\n"
     ]
    }
   ],
   "source": [
    "# Check null values for price features\n",
    "print(\"Number of null values:\", dfdata[\"Price\"].isnull().sum())"
   ]
  },
  {
   "cell_type": "markdown",
   "id": "e1b315fe",
   "metadata": {},
   "source": [
    "there's no null value, so we're good. Now we want to find X of the dataset"
   ]
  },
  {
   "cell_type": "code",
   "execution_count": 390,
   "id": "9c35cabe",
   "metadata": {},
   "outputs": [],
   "source": [
    "# get dummies\n",
    "dummies = pd.get_dummies(dfdata[['Brick','Neighborhood']])\n",
    "\n",
    "y = dfdata.Price\n",
    "\n",
    "# Drop the column with the independent variable (Price), and columns for which we created dummy variables\n",
    "X_ = dfdata.drop(['Brick', 'Neighborhood','Price'], axis=1).astype('float64')\n",
    "\n",
    "# Define the feature set X.\n",
    "X = pd.concat([X_, dummies[['Brick_Yes','Neighborhood_East','Neighborhood_North','Neighborhood_West']]], axis=1)"
   ]
  },
  {
   "cell_type": "markdown",
   "id": "5089d7bb",
   "metadata": {},
   "source": [
    "Now, we want to perform best subset selection by identifying the best model that contains a given number of predictors, where best is quantified using RSS. And we now need to define a helper function to output the best set of variables for each model size:"
   ]
  },
  {
   "cell_type": "code",
   "execution_count": 392,
   "id": "fea86b8d",
   "metadata": {},
   "outputs": [],
   "source": [
    "def processSubset(feature_set):\n",
    "    # Fit model on feature_set and calculate RSS\n",
    "    model = sm.OLS(y,X[list(feature_set)])\n",
    "    regr = model.fit()\n",
    "    RSS = ((regr.predict(X[list(feature_set)]) - y) ** 2).sum()\n",
    "    return {\"model\":regr, \"RSS\":RSS}"
   ]
  },
  {
   "cell_type": "code",
   "execution_count": 393,
   "id": "e74eebb2",
   "metadata": {},
   "outputs": [],
   "source": [
    "def getBest(k):\n",
    "    \n",
    "    tic = time.time()\n",
    "    \n",
    "    results = []\n",
    "    \n",
    "    for combo in itertools.combinations(X.columns, k):\n",
    "        results.append(processSubset(combo))\n",
    "    \n",
    "    # Wrap everything up in a nice dataframe\n",
    "    models = pd.DataFrame(results)\n",
    "    \n",
    "    # Choose the model with the highest RSS\n",
    "    best_model = models.loc[models['RSS'].argmin()]\n",
    "    \n",
    "    toc = time.time()\n",
    "    print(\"Processed\", models.shape[0], \"models on\", k, \"predictors in\", (toc-tic), \"seconds.\")\n",
    "    \n",
    "    # Return the best model, along with some other useful information about the model\n",
    "    return best_model"
   ]
  },
  {
   "cell_type": "markdown",
   "id": "664b14a7",
   "metadata": {},
   "source": [
    "We now want to call the function for each number of predictors k"
   ]
  },
  {
   "cell_type": "code",
   "execution_count": 201,
   "id": "dc9ebe3a",
   "metadata": {
    "scrolled": true
   },
   "outputs": [
    {
     "name": "stdout",
     "output_type": "stream",
     "text": [
      "Processed 9 models on 1 predictors in 0.06513786315917969 seconds.\n",
      "Processed 36 models on 2 predictors in 0.05798506736755371 seconds.\n",
      "Processed 84 models on 3 predictors in 0.0937347412109375 seconds.\n",
      "Processed 126 models on 4 predictors in 0.16265010833740234 seconds.\n",
      "Processed 126 models on 5 predictors in 0.16270208358764648 seconds.\n",
      "Processed 84 models on 6 predictors in 0.128662109375 seconds.\n",
      "Processed 36 models on 7 predictors in 0.04920196533203125 seconds.\n",
      "Total elapsed time: 0.7342782020568848 seconds.\n"
     ]
    }
   ],
   "source": [
    "models_best = pd.DataFrame(columns=[\"RSS\", \"model\"])\n",
    "\n",
    "tic = time.time()\n",
    "for i in range(1,8):\n",
    "    models_best.loc[i] = getBest(i)\n",
    "\n",
    "toc = time.time()\n",
    "print(\"Total elapsed time:\", (toc-tic), \"seconds.\")"
   ]
  },
  {
   "cell_type": "markdown",
   "id": "cec4d555",
   "metadata": {},
   "source": [
    "Now we have one big `DataFrame` that contains the best models we've generated along with their RSS:"
   ]
  },
  {
   "cell_type": "code",
   "execution_count": 202,
   "id": "38684c20",
   "metadata": {
    "scrolled": true
   },
   "outputs": [
    {
     "data": {
      "text/html": [
       "<div>\n",
       "<style scoped>\n",
       "    .dataframe tbody tr th:only-of-type {\n",
       "        vertical-align: middle;\n",
       "    }\n",
       "\n",
       "    .dataframe tbody tr th {\n",
       "        vertical-align: top;\n",
       "    }\n",
       "\n",
       "    .dataframe thead th {\n",
       "        text-align: right;\n",
       "    }\n",
       "</style>\n",
       "<table border=\"1\" class=\"dataframe\">\n",
       "  <thead>\n",
       "    <tr style=\"text-align: right;\">\n",
       "      <th></th>\n",
       "      <th>RSS</th>\n",
       "      <th>model</th>\n",
       "    </tr>\n",
       "  </thead>\n",
       "  <tbody>\n",
       "    <tr>\n",
       "      <th>1</th>\n",
       "      <td>6.379185e+10</td>\n",
       "      <td>&lt;statsmodels.regression.linear_model.Regressio...</td>\n",
       "    </tr>\n",
       "    <tr>\n",
       "      <th>2</th>\n",
       "      <td>3.171029e+10</td>\n",
       "      <td>&lt;statsmodels.regression.linear_model.Regressio...</td>\n",
       "    </tr>\n",
       "    <tr>\n",
       "      <th>3</th>\n",
       "      <td>2.024858e+10</td>\n",
       "      <td>&lt;statsmodels.regression.linear_model.Regressio...</td>\n",
       "    </tr>\n",
       "    <tr>\n",
       "      <th>4</th>\n",
       "      <td>1.451306e+10</td>\n",
       "      <td>&lt;statsmodels.regression.linear_model.Regressio...</td>\n",
       "    </tr>\n",
       "    <tr>\n",
       "      <th>5</th>\n",
       "      <td>1.278322e+10</td>\n",
       "      <td>&lt;statsmodels.regression.linear_model.Regressio...</td>\n",
       "    </tr>\n",
       "    <tr>\n",
       "      <th>6</th>\n",
       "      <td>1.210035e+10</td>\n",
       "      <td>&lt;statsmodels.regression.linear_model.Regressio...</td>\n",
       "    </tr>\n",
       "    <tr>\n",
       "      <th>7</th>\n",
       "      <td>1.204590e+10</td>\n",
       "      <td>&lt;statsmodels.regression.linear_model.Regressio...</td>\n",
       "    </tr>\n",
       "  </tbody>\n",
       "</table>\n",
       "</div>"
      ],
      "text/plain": [
       "            RSS                                              model\n",
       "1  6.379185e+10  <statsmodels.regression.linear_model.Regressio...\n",
       "2  3.171029e+10  <statsmodels.regression.linear_model.Regressio...\n",
       "3  2.024858e+10  <statsmodels.regression.linear_model.Regressio...\n",
       "4  1.451306e+10  <statsmodels.regression.linear_model.Regressio...\n",
       "5  1.278322e+10  <statsmodels.regression.linear_model.Regressio...\n",
       "6  1.210035e+10  <statsmodels.regression.linear_model.Regressio...\n",
       "7  1.204590e+10  <statsmodels.regression.linear_model.Regressio..."
      ]
     },
     "execution_count": 202,
     "metadata": {},
     "output_type": "execute_result"
    }
   ],
   "source": [
    "models_best"
   ]
  },
  {
   "cell_type": "markdown",
   "id": "c95b690f",
   "metadata": {},
   "source": [
    "Access the detail of each model"
   ]
  },
  {
   "cell_type": "code",
   "execution_count": 203,
   "id": "8603f8c5",
   "metadata": {},
   "outputs": [
    {
     "name": "stdout",
     "output_type": "stream",
     "text": [
      "                                 OLS Regression Results                                \n",
      "=======================================================================================\n",
      "Dep. Variable:                  Price   R-squared (uncentered):                   0.986\n",
      "Model:                            OLS   Adj. R-squared (uncentered):              0.986\n",
      "Method:                 Least Squares   F-statistic:                              4445.\n",
      "Date:                Tue, 27 Sep 2022   Prob (F-statistic):                   1.43e-117\n",
      "Time:                        18:14:26   Log-Likelihood:                         -1418.6\n",
      "No. Observations:                 128   AIC:                                      2841.\n",
      "Df Residuals:                     126   BIC:                                      2847.\n",
      "Df Model:                           2                                                  \n",
      "Covariance Type:            nonrobust                                                  \n",
      "=====================================================================================\n",
      "                        coef    std err          t      P>|t|      [0.025      0.975]\n",
      "-------------------------------------------------------------------------------------\n",
      "SqFt                 59.7677      0.849     70.414      0.000      58.088      61.447\n",
      "Neighborhood_West  3.493e+04   3093.932     11.290      0.000    2.88e+04    4.11e+04\n",
      "==============================================================================\n",
      "Omnibus:                        0.008   Durbin-Watson:                   2.268\n",
      "Prob(Omnibus):                  0.996   Jarque-Bera (JB):                0.111\n",
      "Skew:                           0.004   Prob(JB):                        0.946\n",
      "Kurtosis:                       2.856   Cond. No.                     4.44e+03\n",
      "==============================================================================\n",
      "\n",
      "Notes:\n",
      "[1] R² is computed without centering (uncentered) since the model does not contain a constant.\n",
      "[2] Standard Errors assume that the covariance matrix of the errors is correctly specified.\n",
      "[3] The condition number is large, 4.44e+03. This might indicate that there are\n",
      "strong multicollinearity or other numerical problems.\n"
     ]
    }
   ],
   "source": [
    "print(models_best.loc[2, \"model\"].summary())"
   ]
  },
  {
   "cell_type": "markdown",
   "id": "5476b640",
   "metadata": {},
   "source": [
    "Show the best 9-variable model"
   ]
  },
  {
   "cell_type": "code",
   "execution_count": 205,
   "id": "4226b517",
   "metadata": {
    "scrolled": true
   },
   "outputs": [
    {
     "name": "stdout",
     "output_type": "stream",
     "text": [
      "Processed 1 models on 9 predictors in 0.07672405242919922 seconds.\n",
      "                            OLS Regression Results                            \n",
      "==============================================================================\n",
      "Dep. Variable:                  Price   R-squared:                       0.869\n",
      "Model:                            OLS   Adj. R-squared:                  0.860\n",
      "Method:                 Least Squares   F-statistic:                     98.54\n",
      "Date:                Tue, 27 Sep 2022   Prob (F-statistic):           8.25e-49\n",
      "Time:                        18:15:02   Log-Likelihood:                -1356.6\n",
      "No. Observations:                 128   AIC:                             2731.\n",
      "Df Residuals:                     119   BIC:                             2757.\n",
      "Df Model:                           8                                         \n",
      "Covariance Type:            nonrobust                                         \n",
      "======================================================================================\n",
      "                         coef    std err          t      P>|t|      [0.025      0.975]\n",
      "--------------------------------------------------------------------------------------\n",
      "Home                 -11.4564     25.387     -0.451      0.653     -61.725      38.812\n",
      "SqFt                  53.6341      5.926      9.051      0.000      41.900      65.368\n",
      "Bedrooms            4136.4613   1621.775      2.551      0.012     925.185    7347.738\n",
      "Bathrooms           7975.1571   2133.831      3.737      0.000    3749.959    1.22e+04\n",
      "Offers             -8350.1276   1103.693     -7.566      0.000   -1.05e+04   -6164.706\n",
      "Brick_Yes           1.731e+04   1988.548      8.707      0.000    1.34e+04    2.13e+04\n",
      "Neighborhood_East    308.1136   9605.692      0.032      0.974   -1.87e+04    1.93e+04\n",
      "Neighborhood_North  2037.7264   8911.501      0.229      0.820   -1.56e+04    1.97e+04\n",
      "Neighborhood_West   2.257e+04   1.03e+04      2.194      0.030    2201.945    4.29e+04\n",
      "==============================================================================\n",
      "Omnibus:                        3.698   Durbin-Watson:                   1.921\n",
      "Prob(Omnibus):                  0.157   Jarque-Bera (JB):                3.236\n",
      "Skew:                           0.281   Prob(JB):                        0.198\n",
      "Kurtosis:                       3.540   Cond. No.                     3.73e+04\n",
      "==============================================================================\n",
      "\n",
      "Notes:\n",
      "[1] Standard Errors assume that the covariance matrix of the errors is correctly specified.\n",
      "[2] The condition number is large, 3.73e+04. This might indicate that there are\n",
      "strong multicollinearity or other numerical problems.\n"
     ]
    }
   ],
   "source": [
    "# Show the best 9-variable model (there's actually only one)\n",
    "print(getBest(9)[\"model\"].summary())"
   ]
  },
  {
   "cell_type": "markdown",
   "id": "9227e82c",
   "metadata": {},
   "source": [
    "Find the best rsquare value:"
   ]
  },
  {
   "cell_type": "code",
   "execution_count": 206,
   "id": "f6336a3f",
   "metadata": {
    "scrolled": true
   },
   "outputs": [
    {
     "data": {
      "text/plain": [
       "0.9860253557388876"
      ]
     },
     "execution_count": 206,
     "metadata": {},
     "output_type": "execute_result"
    }
   ],
   "source": [
    "models_best.loc[2, \"model\"].rsquared"
   ]
  },
  {
   "cell_type": "markdown",
   "id": "e0f8e25a",
   "metadata": {},
   "source": [
    "Gets the second element from each row ('model') and pulls out its rsquared attribute"
   ]
  },
  {
   "cell_type": "code",
   "execution_count": 207,
   "id": "859e04a1",
   "metadata": {
    "scrolled": true
   },
   "outputs": [
    {
     "data": {
      "text/plain": [
       "1    0.971887\n",
       "2    0.986025\n",
       "3    0.991077\n",
       "4    0.993604\n",
       "5    0.994366\n",
       "6    0.994667\n",
       "7    0.994691\n",
       "dtype: float64"
      ]
     },
     "execution_count": 207,
     "metadata": {},
     "output_type": "execute_result"
    }
   ],
   "source": [
    "# Gets the second element from each row ('model') and pulls out its rsquared attribute\n",
    "models_best.apply(lambda row: row[1].rsquared, axis=1)"
   ]
  },
  {
   "cell_type": "markdown",
   "id": "6d397b75",
   "metadata": {},
   "source": [
    "As expected, the $R^2$ statistic increases monotonically as more\n",
    "variables are included.\n",
    "\n",
    "Plotting RSS, adjusted $R^2$, AIC, and BIC for all of the models at once will\n",
    "help us decide which model to select. Note the `type=\"l\"` option tells `R` to\n",
    "connect the plotted points with lines:\n",
    "As expected, the $R^2$ statistic increases monotonically as more\n",
    "variables are included.\n",
    "\n",
    "Plotting RSS, adjusted $R^2$, AIC, and BIC for all of the models at once will\n",
    "help us decide which model to select. Note the `type=\"l\"` option tells `R` to\n",
    "connect the plotted points with lines:"
   ]
  },
  {
   "cell_type": "code",
   "execution_count": 208,
   "id": "76e01710",
   "metadata": {
    "scrolled": true
   },
   "outputs": [
    {
     "data": {
      "text/plain": [
       "Text(0, 0.5, 'BIC')"
      ]
     },
     "execution_count": 208,
     "metadata": {},
     "output_type": "execute_result"
    },
    {
     "data": {
      "image/png": "[encoded data removed]",
      "text/plain": [
       "<Figure size 1440x720 with 4 Axes>"
      ]
     },
     "metadata": {
      "needs_background": "light"
     },
     "output_type": "display_data"
    }
   ],
   "source": [
    "plt.figure(figsize=(20,10))\n",
    "plt.rcParams.update({'font.size': 18, 'lines.markersize': 10})\n",
    "\n",
    "# Set up a 2x2 grid so we can look at 4 plots at once\n",
    "plt.subplot(2, 2, 1)\n",
    "\n",
    "# We will now plot a red dot to indicate the model with the largest adjusted R^2 statistic.\n",
    "# The argmax() function can be used to identify the location of the maximum point of a vector\n",
    "plt.plot(models_best[\"RSS\"])\n",
    "plt.xlabel('# Predictors')\n",
    "plt.ylabel('RSS')\n",
    "\n",
    "# We will now plot a red dot to indicate the model with the largest adjusted R^2 statistic.\n",
    "# The argmax() function can be used to identify the location of the maximum point of a vector\n",
    "\n",
    "rsquared_adj = models_best.apply(lambda row: row[1].rsquared_adj, axis=1)\n",
    "\n",
    "plt.subplot(2, 2, 2)\n",
    "plt.plot(rsquared_adj)\n",
    "plt.plot(rsquared_adj.argmax(), rsquared_adj.max(), \"or\")\n",
    "plt.xlabel('# Predictors')\n",
    "plt.ylabel('adjusted rsquared')\n",
    "\n",
    "# We'll do the same for AIC and BIC, this time looking for the models with the SMALLEST statistic\n",
    "aic = models_best.apply(lambda row: row[1].aic, axis=1)\n",
    "\n",
    "plt.subplot(2, 2, 3)\n",
    "plt.plot(aic)\n",
    "plt.plot(aic.argmin(), aic.min(), \"or\")\n",
    "plt.xlabel('# Predictors')\n",
    "plt.ylabel('AIC')\n",
    "\n",
    "bic = models_best.apply(lambda row: row[1].bic, axis=1)\n",
    "\n",
    "plt.subplot(2, 2, 4)\n",
    "plt.plot(bic)\n",
    "plt.plot(bic.argmin(), bic.min(), \"or\")\n",
    "plt.xlabel('# Predictors')\n",
    "plt.ylabel('BIC')"
   ]
  },
  {
   "cell_type": "markdown",
   "id": "15f20f59",
   "metadata": {},
   "source": [
    "According to the adjsuted rsquared, AIC and BIC models, we can find that the model has  around 5 predictors may has the best performance. They all agree that the predictors less than 5 or fewer predictors is insufficient."
   ]
  },
  {
   "cell_type": "markdown",
   "id": "44002783",
   "metadata": {},
   "source": [
    "Forward Selection"
   ]
  },
  {
   "cell_type": "markdown",
   "id": "5deb9768",
   "metadata": {},
   "source": [
    "We can also use a similar approach to perform forward stepwise\n",
    "or backward stepwise selection, using a slight modification of the functions we defined above:"
   ]
  },
  {
   "cell_type": "code",
   "execution_count": 209,
   "id": "ff311db0",
   "metadata": {},
   "outputs": [],
   "source": [
    "def forward(predictors):\n",
    "\n",
    "    # Pull out predictors we still need to process\n",
    "    remaining_predictors = [p for p in X.columns if p not in predictors]\n",
    "    \n",
    "    tic = time.time()\n",
    "    \n",
    "    results = []\n",
    "    \n",
    "    for p in remaining_predictors:\n",
    "        results.append(processSubset(predictors+[p]))\n",
    "    \n",
    "    # Wrap everything up in a nice dataframe\n",
    "    models = pd.DataFrame(results)\n",
    "    \n",
    "    # Choose the model with the highest RSS\n",
    "    best_model = models.loc[models['RSS'].argmin()]\n",
    "    \n",
    "    toc = time.time()\n",
    "    print(\"Processed \", models.shape[0], \"models on\", len(predictors)+1, \"predictors in\", (toc-tic), \"seconds.\")\n",
    "    \n",
    "    # Return the best model, along with some other useful information about the model\n",
    "    return best_model"
   ]
  },
  {
   "cell_type": "markdown",
   "id": "ec2586d1",
   "metadata": {},
   "source": [
    "Find the time cost it runs:"
   ]
  },
  {
   "cell_type": "code",
   "execution_count": 210,
   "id": "54c219c6",
   "metadata": {},
   "outputs": [
    {
     "name": "stdout",
     "output_type": "stream",
     "text": [
      "Processed  9 models on 1 predictors in 0.06007099151611328 seconds.\n",
      "Processed  8 models on 2 predictors in 0.037322044372558594 seconds.\n",
      "Processed  7 models on 3 predictors in 0.024404287338256836 seconds.\n",
      "Processed  6 models on 4 predictors in 0.019958019256591797 seconds.\n",
      "Processed  5 models on 5 predictors in 0.011090755462646484 seconds.\n",
      "Processed  4 models on 6 predictors in 0.010766029357910156 seconds.\n",
      "Processed  3 models on 7 predictors in 0.012660026550292969 seconds.\n",
      "Processed  2 models on 8 predictors in 0.008875131607055664 seconds.\n",
      "Processed  1 models on 9 predictors in 0.003977060317993164 seconds.\n",
      "Total elapsed time: 0.21837902069091797 seconds.\n"
     ]
    }
   ],
   "source": [
    "models_fwd = pd.DataFrame(columns=[\"RSS\", \"model\"])\n",
    "\n",
    "tic = time.time()\n",
    "predictors = []\n",
    "\n",
    "for i in range(1,len(X.columns)+1):    \n",
    "    models_fwd.loc[i] = forward(predictors)\n",
    "    predictors = models_fwd.loc[i][\"model\"].model.exog_names\n",
    "\n",
    "toc = time.time()\n",
    "print(\"Total elapsed time:\", (toc-tic), \"seconds.\")"
   ]
  },
  {
   "cell_type": "markdown",
   "id": "862d4018",
   "metadata": {},
   "source": [
    "Show the summary:"
   ]
  },
  {
   "cell_type": "code",
   "execution_count": 211,
   "id": "01a3d845",
   "metadata": {
    "scrolled": true
   },
   "outputs": [
    {
     "name": "stdout",
     "output_type": "stream",
     "text": [
      "                                 OLS Regression Results                                \n",
      "=======================================================================================\n",
      "Dep. Variable:                  Price   R-squared (uncentered):                   0.972\n",
      "Model:                            OLS   Adj. R-squared (uncentered):              0.972\n",
      "Method:                 Least Squares   F-statistic:                              4390.\n",
      "Date:                Tue, 27 Sep 2022   Prob (F-statistic):                   2.30e-100\n",
      "Time:                        18:29:44   Log-Likelihood:                         -1463.3\n",
      "No. Observations:                 128   AIC:                                      2929.\n",
      "Df Residuals:                     127   BIC:                                      2932.\n",
      "Df Model:                           1                                                  \n",
      "Covariance Type:            nonrobust                                                  \n",
      "==============================================================================\n",
      "                 coef    std err          t      P>|t|      [0.025      0.975]\n",
      "------------------------------------------------------------------------------\n",
      "SqFt          65.2384      0.985     66.261      0.000      63.290      67.187\n",
      "==============================================================================\n",
      "Omnibus:                        3.626   Durbin-Watson:                   2.130\n",
      "Prob(Omnibus):                  0.163   Jarque-Bera (JB):                3.637\n",
      "Skew:                           0.379   Prob(JB):                        0.162\n",
      "Kurtosis:                       2.673   Cond. No.                         1.00\n",
      "==============================================================================\n",
      "\n",
      "Notes:\n",
      "[1] R² is computed without centering (uncentered) since the model does not contain a constant.\n",
      "[2] Standard Errors assume that the covariance matrix of the errors is correctly specified.\n",
      "                                 OLS Regression Results                                \n",
      "=======================================================================================\n",
      "Dep. Variable:                  Price   R-squared (uncentered):                   0.986\n",
      "Model:                            OLS   Adj. R-squared (uncentered):              0.986\n",
      "Method:                 Least Squares   F-statistic:                              4445.\n",
      "Date:                Tue, 27 Sep 2022   Prob (F-statistic):                   1.43e-117\n",
      "Time:                        18:29:44   Log-Likelihood:                         -1418.6\n",
      "No. Observations:                 128   AIC:                                      2841.\n",
      "Df Residuals:                     126   BIC:                                      2847.\n",
      "Df Model:                           2                                                  \n",
      "Covariance Type:            nonrobust                                                  \n",
      "=====================================================================================\n",
      "                        coef    std err          t      P>|t|      [0.025      0.975]\n",
      "-------------------------------------------------------------------------------------\n",
      "SqFt                 59.7677      0.849     70.414      0.000      58.088      61.447\n",
      "Neighborhood_West  3.493e+04   3093.932     11.290      0.000    2.88e+04    4.11e+04\n",
      "==============================================================================\n",
      "Omnibus:                        0.008   Durbin-Watson:                   2.268\n",
      "Prob(Omnibus):                  0.996   Jarque-Bera (JB):                0.111\n",
      "Skew:                           0.004   Prob(JB):                        0.946\n",
      "Kurtosis:                       2.856   Cond. No.                     4.44e+03\n",
      "==============================================================================\n",
      "\n",
      "Notes:\n",
      "[1] R² is computed without centering (uncentered) since the model does not contain a constant.\n",
      "[2] Standard Errors assume that the covariance matrix of the errors is correctly specified.\n",
      "[3] The condition number is large, 4.44e+03. This might indicate that there are\n",
      "strong multicollinearity or other numerical problems.\n"
     ]
    }
   ],
   "source": [
    "print(models_fwd.loc[1, \"model\"].summary())\n",
    "print(models_fwd.loc[2, \"model\"].summary())"
   ]
  },
  {
   "cell_type": "markdown",
   "id": "965f218b",
   "metadata": {},
   "source": [
    "The best predictor for this price-prediction model is SqFt, and the best 2 are SqFt and Neighborhood_West."
   ]
  },
  {
   "cell_type": "code",
   "execution_count": 394,
   "id": "0d56e5ab",
   "metadata": {
    "scrolled": false
   },
   "outputs": [
    {
     "name": "stdout",
     "output_type": "stream",
     "text": [
      "                                 OLS Regression Results                                \n",
      "=======================================================================================\n",
      "Dep. Variable:                  Price   R-squared (uncentered):                   0.994\n",
      "Model:                            OLS   Adj. R-squared (uncentered):              0.994\n",
      "Method:                 Least Squares   F-statistic:                              4342.\n",
      "Date:                Tue, 27 Sep 2022   Prob (F-statistic):                   1.75e-136\n",
      "Time:                        23:16:50   Log-Likelihood:                         -1360.5\n",
      "No. Observations:                 128   AIC:                                      2731.\n",
      "Df Residuals:                     123   BIC:                                      2745.\n",
      "Df Model:                           5                                                  \n",
      "Covariance Type:            nonrobust                                                  \n",
      "=====================================================================================\n",
      "                        coef    std err          t      P>|t|      [0.025      0.975]\n",
      "-------------------------------------------------------------------------------------\n",
      "SqFt                 58.0632      2.885     20.129      0.000      52.353      63.773\n",
      "Bathrooms          8670.5845   2125.261      4.080      0.000    4463.761    1.29e+04\n",
      "Offers            -7733.9792   1004.556     -7.699      0.000   -9722.436   -5745.522\n",
      "Brick_Yes          1.687e+04   1980.016      8.519      0.000    1.29e+04    2.08e+04\n",
      "Neighborhood_West   2.43e+04   2239.795     10.850      0.000    1.99e+04    2.87e+04\n",
      "==============================================================================\n",
      "Omnibus:                        3.698   Durbin-Watson:                   1.900\n",
      "Prob(Omnibus):                  0.157   Jarque-Bera (JB):                3.188\n",
      "Skew:                           0.295   Prob(JB):                        0.203\n",
      "Kurtosis:                       3.499   Cond. No.                     5.45e+03\n",
      "==============================================================================\n",
      "\n",
      "Notes:\n",
      "[1] R² is computed without centering (uncentered) since the model does not contain a constant.\n",
      "[2] Standard Errors assume that the covariance matrix of the errors is correctly specified.\n",
      "[3] The condition number is large, 5.45e+03. This might indicate that there are\n",
      "strong multicollinearity or other numerical problems.\n",
      "                                 OLS Regression Results                                \n",
      "=======================================================================================\n",
      "Dep. Variable:                  Price   R-squared (uncentered):                   0.994\n",
      "Model:                            OLS   Adj. R-squared (uncentered):              0.994\n",
      "Method:                 Least Squares   F-statistic:                              4342.\n",
      "Date:                Tue, 27 Sep 2022   Prob (F-statistic):                   1.75e-136\n",
      "Time:                        23:16:50   Log-Likelihood:                         -1360.5\n",
      "No. Observations:                 128   AIC:                                      2731.\n",
      "Df Residuals:                     123   BIC:                                      2745.\n",
      "Df Model:                           5                                                  \n",
      "Covariance Type:            nonrobust                                                  \n",
      "=====================================================================================\n",
      "                        coef    std err          t      P>|t|      [0.025      0.975]\n",
      "-------------------------------------------------------------------------------------\n",
      "SqFt                 58.0632      2.885     20.129      0.000      52.353      63.773\n",
      "Neighborhood_West   2.43e+04   2239.795     10.850      0.000    1.99e+04    2.87e+04\n",
      "Brick_Yes          1.687e+04   1980.016      8.519      0.000    1.29e+04    2.08e+04\n",
      "Offers            -7733.9792   1004.556     -7.699      0.000   -9722.436   -5745.522\n",
      "Bathrooms          8670.5845   2125.261      4.080      0.000    4463.761    1.29e+04\n",
      "==============================================================================\n",
      "Omnibus:                        3.698   Durbin-Watson:                   1.900\n",
      "Prob(Omnibus):                  0.157   Jarque-Bera (JB):                3.188\n",
      "Skew:                           0.295   Prob(JB):                        0.203\n",
      "Kurtosis:                       3.499   Cond. No.                     5.45e+03\n",
      "==============================================================================\n",
      "\n",
      "Notes:\n",
      "[1] R² is computed without centering (uncentered) since the model does not contain a constant.\n",
      "[2] Standard Errors assume that the covariance matrix of the errors is correctly specified.\n",
      "[3] The condition number is large, 5.45e+03. This might indicate that there are\n",
      "strong multicollinearity or other numerical problems.\n"
     ]
    }
   ],
   "source": [
    "print(models_best.loc[5, \"model\"].summary())\n",
    "print(models_fwd.loc[5, \"model\"].summary())"
   ]
  },
  {
   "cell_type": "markdown",
   "id": "0a7a4030",
   "metadata": {},
   "source": [
    "According to the summary table, we can find that the best one-variable through five-variable models are each identical for best subset and forward selection.\n",
    "And the top 5 best predictors are SqFt, Neighborhood_West, Brick_Yes, Offers, Bathrooms"
   ]
  },
  {
   "cell_type": "markdown",
   "id": "a11aa677",
   "metadata": {},
   "source": [
    "Backward Selection"
   ]
  },
  {
   "cell_type": "markdown",
   "id": "6ccfa1ed",
   "metadata": {},
   "source": [
    "Looping through the predictors in reverse:"
   ]
  },
  {
   "cell_type": "code",
   "execution_count": 213,
   "id": "2bc08496",
   "metadata": {},
   "outputs": [],
   "source": [
    "def backward(predictors):\n",
    "    \n",
    "    tic = time.time()\n",
    "    \n",
    "    results = []\n",
    "    \n",
    "    for combo in itertools.combinations(predictors, len(predictors)-1):\n",
    "        results.append(processSubset(combo))\n",
    "    \n",
    "    # Wrap everything up in a nice dataframe\n",
    "    models = pd.DataFrame(results)\n",
    "    \n",
    "    # Choose the model with the highest RSS\n",
    "    best_model = models.loc[models['RSS'].argmin()]\n",
    "    \n",
    "    toc = time.time()\n",
    "    print(\"Processed \", models.shape[0], \"models on\", len(predictors)-1, \"predictors in\", (toc-tic), \"seconds.\")\n",
    "    \n",
    "    # Return the best model, along with some other useful information about the model\n",
    "    return best_model"
   ]
  },
  {
   "cell_type": "code",
   "execution_count": 214,
   "id": "d12bc2d3",
   "metadata": {},
   "outputs": [
    {
     "name": "stdout",
     "output_type": "stream",
     "text": [
      "Processed  9 models on 8 predictors in 0.04503226280212402 seconds.\n",
      "Processed  8 models on 7 predictors in 0.023672103881835938 seconds.\n",
      "Processed  7 models on 6 predictors in 0.017671823501586914 seconds.\n",
      "Processed  6 models on 5 predictors in 0.01588916778564453 seconds.\n",
      "Processed  5 models on 4 predictors in 0.00984501838684082 seconds.\n",
      "Processed  4 models on 3 predictors in 0.008574962615966797 seconds.\n",
      "Processed  3 models on 2 predictors in 0.006140232086181641 seconds.\n",
      "Processed  2 models on 1 predictors in 0.002895832061767578 seconds.\n",
      "Total elapsed time: 0.1349329948425293 seconds.\n"
     ]
    }
   ],
   "source": [
    "models_bwd = pd.DataFrame(columns=[\"RSS\", \"model\"], index = range(1,len(X.columns)))\n",
    "\n",
    "tic = time.time()\n",
    "predictors = X.columns\n",
    "\n",
    "while(len(predictors) > 1):  \n",
    "    models_bwd.loc[len(predictors)-1] = backward(predictors)\n",
    "    predictors = models_bwd.loc[len(predictors)-1][\"model\"].model.exog_names\n",
    "\n",
    "toc = time.time()\n",
    "print(\"Total elapsed time:\", (toc-tic), \"seconds.\")"
   ]
  },
  {
   "cell_type": "code",
   "execution_count": 395,
   "id": "aff2f978",
   "metadata": {
    "scrolled": true
   },
   "outputs": [
    {
     "name": "stdout",
     "output_type": "stream",
     "text": [
      "------------\n",
      "Best Subset:\n",
      "------------\n",
      "SqFt                    58.063161\n",
      "Bathrooms             8670.584514\n",
      "Offers               -7733.979226\n",
      "Brick_Yes            16867.624729\n",
      "Neighborhood_West    24301.795812\n",
      "dtype: float64\n"
     ]
    }
   ],
   "source": [
    "print(\"------------\")\n",
    "print(\"Best Subset:\")\n",
    "print(\"------------\")\n",
    "print(models_best.loc[5, \"model\"].params)"
   ]
  },
  {
   "cell_type": "code",
   "execution_count": 397,
   "id": "dd1292eb",
   "metadata": {
    "scrolled": true
   },
   "outputs": [
    {
     "name": "stdout",
     "output_type": "stream",
     "text": [
      "-----------------\n",
      "Forward Selection:\n",
      "-----------------\n",
      "SqFt                    58.063161\n",
      "Neighborhood_West    24301.795812\n",
      "Brick_Yes            16867.624729\n",
      "Offers               -7733.979226\n",
      "Bathrooms             8670.584514\n",
      "dtype: float64\n"
     ]
    }
   ],
   "source": [
    "print(\"-----------------\")\n",
    "print(\"Forward Selection:\")\n",
    "print(\"-----------------\")\n",
    "print(models_fwd.loc[5, \"model\"].params)"
   ]
  },
  {
   "cell_type": "code",
   "execution_count": 398,
   "id": "f38137ae",
   "metadata": {
    "scrolled": true
   },
   "outputs": [
    {
     "name": "stdout",
     "output_type": "stream",
     "text": [
      "-------------------\n",
      "Backward Selection:\n",
      "-------------------\n",
      "SqFt                    58.063161\n",
      "Bathrooms             8670.584514\n",
      "Offers               -7733.979226\n",
      "Brick_Yes            16867.624729\n",
      "Neighborhood_West    24301.795812\n",
      "dtype: float64\n"
     ]
    }
   ],
   "source": [
    "print(\"-------------------\")\n",
    "print(\"Backward Selection:\")\n",
    "print(\"-------------------\")\n",
    "print(models_bwd.loc[5, \"model\"].params)"
   ]
  },
  {
   "cell_type": "markdown",
   "id": "be384d83",
   "metadata": {},
   "source": [
    "From the output, we can find that the best predictors number is 5 for this price predict model. And the top 5 predictors are SqFt, Bathrooms, Offers, Brick, Neighborhood_West according to all the methods."
   ]
  },
  {
   "cell_type": "markdown",
   "id": "7fcef810",
   "metadata": {},
   "source": [
    "c)Compare your model performance against the model Q1"
   ]
  },
  {
   "cell_type": "markdown",
   "id": "f8351aac",
   "metadata": {},
   "source": [
    "From the previous output from a) in this question, we found that the best predictors' r2score could be reach to 0.994366, however, my r2score is only 0.806342690866721, which is greatly smaller than the accuracy that we predict to be. This maybe because that we didn't drop any predictors in this question. If we would like to subset the predictors, I will try to use SqFt, Neighborhood_West, Brick_Yes, Offers, Bathrooms as my predictors because they are much more accurate than the other predictors based on the analysis."
   ]
  },
  {
   "cell_type": "markdown",
   "id": "988af12e",
   "metadata": {},
   "source": [
    "## Extra Credit\n",
    "a) Implement Ridge/Lasso regression for the dataset\n",
    "\n",
    "b) Compare the lasso/ridge regression model output with Q1, and Q3 models performance metrics\n",
    "\n",
    "Note: RMSE and R2 performance metrics are sufficient for comparison\n",
    "\n",
    " "
   ]
  },
  {
   "cell_type": "markdown",
   "id": "a0f65e13",
   "metadata": {},
   "source": [
    "a) Implement Ridge/Lasso regression for the dataset"
   ]
  },
  {
   "cell_type": "code",
   "execution_count": 275,
   "id": "fa0445e9",
   "metadata": {
    "scrolled": true
   },
   "outputs": [
    {
     "data": {
      "text/html": [
       "<div>\n",
       "<style scoped>\n",
       "    .dataframe tbody tr th:only-of-type {\n",
       "        vertical-align: middle;\n",
       "    }\n",
       "\n",
       "    .dataframe tbody tr th {\n",
       "        vertical-align: top;\n",
       "    }\n",
       "\n",
       "    .dataframe thead th {\n",
       "        text-align: right;\n",
       "    }\n",
       "</style>\n",
       "<table border=\"1\" class=\"dataframe\">\n",
       "  <thead>\n",
       "    <tr style=\"text-align: right;\">\n",
       "      <th></th>\n",
       "      <th>Home</th>\n",
       "      <th>Price</th>\n",
       "      <th>SqFt</th>\n",
       "      <th>Bedrooms</th>\n",
       "      <th>Bathrooms</th>\n",
       "      <th>Offers</th>\n",
       "      <th>Brick</th>\n",
       "      <th>Neighborhood</th>\n",
       "    </tr>\n",
       "  </thead>\n",
       "  <tbody>\n",
       "    <tr>\n",
       "      <th>0</th>\n",
       "      <td>1</td>\n",
       "      <td>114300</td>\n",
       "      <td>1790</td>\n",
       "      <td>2</td>\n",
       "      <td>2</td>\n",
       "      <td>2</td>\n",
       "      <td>No</td>\n",
       "      <td>East</td>\n",
       "    </tr>\n",
       "    <tr>\n",
       "      <th>1</th>\n",
       "      <td>2</td>\n",
       "      <td>114200</td>\n",
       "      <td>2030</td>\n",
       "      <td>4</td>\n",
       "      <td>2</td>\n",
       "      <td>3</td>\n",
       "      <td>No</td>\n",
       "      <td>East</td>\n",
       "    </tr>\n",
       "    <tr>\n",
       "      <th>2</th>\n",
       "      <td>3</td>\n",
       "      <td>114800</td>\n",
       "      <td>1740</td>\n",
       "      <td>3</td>\n",
       "      <td>2</td>\n",
       "      <td>1</td>\n",
       "      <td>No</td>\n",
       "      <td>East</td>\n",
       "    </tr>\n",
       "    <tr>\n",
       "      <th>3</th>\n",
       "      <td>4</td>\n",
       "      <td>94700</td>\n",
       "      <td>1980</td>\n",
       "      <td>3</td>\n",
       "      <td>2</td>\n",
       "      <td>3</td>\n",
       "      <td>No</td>\n",
       "      <td>East</td>\n",
       "    </tr>\n",
       "    <tr>\n",
       "      <th>4</th>\n",
       "      <td>5</td>\n",
       "      <td>119800</td>\n",
       "      <td>2130</td>\n",
       "      <td>3</td>\n",
       "      <td>3</td>\n",
       "      <td>3</td>\n",
       "      <td>No</td>\n",
       "      <td>East</td>\n",
       "    </tr>\n",
       "    <tr>\n",
       "      <th>...</th>\n",
       "      <td>...</td>\n",
       "      <td>...</td>\n",
       "      <td>...</td>\n",
       "      <td>...</td>\n",
       "      <td>...</td>\n",
       "      <td>...</td>\n",
       "      <td>...</td>\n",
       "      <td>...</td>\n",
       "    </tr>\n",
       "    <tr>\n",
       "      <th>123</th>\n",
       "      <td>124</td>\n",
       "      <td>119700</td>\n",
       "      <td>1900</td>\n",
       "      <td>3</td>\n",
       "      <td>3</td>\n",
       "      <td>3</td>\n",
       "      <td>Yes</td>\n",
       "      <td>East</td>\n",
       "    </tr>\n",
       "    <tr>\n",
       "      <th>124</th>\n",
       "      <td>125</td>\n",
       "      <td>147900</td>\n",
       "      <td>2160</td>\n",
       "      <td>4</td>\n",
       "      <td>3</td>\n",
       "      <td>3</td>\n",
       "      <td>Yes</td>\n",
       "      <td>East</td>\n",
       "    </tr>\n",
       "    <tr>\n",
       "      <th>125</th>\n",
       "      <td>126</td>\n",
       "      <td>113500</td>\n",
       "      <td>2070</td>\n",
       "      <td>2</td>\n",
       "      <td>2</td>\n",
       "      <td>2</td>\n",
       "      <td>No</td>\n",
       "      <td>North</td>\n",
       "    </tr>\n",
       "    <tr>\n",
       "      <th>126</th>\n",
       "      <td>127</td>\n",
       "      <td>149900</td>\n",
       "      <td>2020</td>\n",
       "      <td>3</td>\n",
       "      <td>3</td>\n",
       "      <td>1</td>\n",
       "      <td>No</td>\n",
       "      <td>West</td>\n",
       "    </tr>\n",
       "    <tr>\n",
       "      <th>127</th>\n",
       "      <td>128</td>\n",
       "      <td>124600</td>\n",
       "      <td>2250</td>\n",
       "      <td>3</td>\n",
       "      <td>3</td>\n",
       "      <td>4</td>\n",
       "      <td>No</td>\n",
       "      <td>North</td>\n",
       "    </tr>\n",
       "  </tbody>\n",
       "</table>\n",
       "<p>128 rows × 8 columns</p>\n",
       "</div>"
      ],
      "text/plain": [
       "     Home   Price  SqFt  Bedrooms  Bathrooms  Offers Brick Neighborhood\n",
       "0       1  114300  1790         2          2       2    No         East\n",
       "1       2  114200  2030         4          2       3    No         East\n",
       "2       3  114800  1740         3          2       1    No         East\n",
       "3       4   94700  1980         3          2       3    No         East\n",
       "4       5  119800  2130         3          3       3    No         East\n",
       "..    ...     ...   ...       ...        ...     ...   ...          ...\n",
       "123   124  119700  1900         3          3       3   Yes         East\n",
       "124   125  147900  2160         4          3       3   Yes         East\n",
       "125   126  113500  2070         2          2       2    No        North\n",
       "126   127  149900  2020         3          3       1    No         West\n",
       "127   128  124600  2250         3          3       4    No        North\n",
       "\n",
       "[128 rows x 8 columns]"
      ]
     },
     "execution_count": 275,
     "metadata": {},
     "output_type": "execute_result"
    }
   ],
   "source": [
    "dfdata = pd.read_csv('houseprices.csv')\n",
    "dfdata"
   ]
  },
  {
   "cell_type": "code",
   "execution_count": 276,
   "id": "1c2db4bf",
   "metadata": {},
   "outputs": [],
   "source": [
    "from sklearn.preprocessing import StandardScaler\n",
    "sc = StandardScaler()\n",
    "X = sc.fit_transform(X)"
   ]
  },
  {
   "cell_type": "code",
   "execution_count": 277,
   "id": "fa88bece",
   "metadata": {
    "scrolled": false
   },
   "outputs": [],
   "source": [
    "from sklearn.model_selection import train_test_split\n",
    "Xtrain, Xtest, Ytrain, Ytest = train_test_split( X, Y, test_size = 0.2,random_state=42)"
   ]
  },
  {
   "cell_type": "code",
   "execution_count": 313,
   "id": "44dc2096",
   "metadata": {},
   "outputs": [],
   "source": [
    "def cost_function_Ridge(x, y, lamda, theta):\n",
    "    np.sum(((np.dot(x,theta) - y) ** 2) / (2*x.shape[0]) + (lamda * np.sum(theta**2)))\n",
    "\n",
    "def Ridge_gradient_descent(x, y, alpha, iterations, lamda, theta, b):\n",
    "        n = x.shape[1]\n",
    "        cost_list = [0] * iterations\n",
    "        \n",
    "        for i in range(10000):\n",
    "            z = x.dot(theta) + b\n",
    "            loss = z - y\n",
    "        \n",
    "            weight_gradient = x.T.dot(loss) / len(y)\n",
    "            bias_gradient = np.sum(loss) / len(y)\n",
    "        \n",
    "            theta = theta - alpha*weight_gradient\n",
    "            \n",
    "            cost = np.sum(np.power(x.dot(theta) + b - y,2) / (2*x.shape[0]) + (lamda * np.sum(theta**2)))\n",
    "            cost_list[i] = cost\n",
    "        \n",
    "            if (i%(iterations/10)==0):\n",
    "                print(\"Cost at epoch\",i,\"is:\",cost)\n",
    "        return cost_list, theta, b"
   ]
  },
  {
   "cell_type": "code",
   "execution_count": 314,
   "id": "c2f5636e",
   "metadata": {},
   "outputs": [
    {
     "name": "stdout",
     "output_type": "stream",
     "text": [
      "Cost at epoch 0 is: 8899289704.114614\n",
      "Cost at epoch 1000 is: 30844660944.06137\n",
      "Cost at epoch 2000 is: 30887570610.314804\n",
      "Cost at epoch 3000 is: 30887652273.1402\n",
      "Cost at epoch 4000 is: 30887652428.888847\n",
      "Cost at epoch 5000 is: 30887652429.185936\n",
      "Cost at epoch 6000 is: 30887652429.186127\n",
      "Cost at epoch 7000 is: 30887652429.186127\n",
      "Cost at epoch 8000 is: 30887652429.186127\n",
      "Cost at epoch 9000 is: 30887652429.186127\n"
     ]
    }
   ],
   "source": [
    "theta = np.zeros(Xtrain.shape[1])\n",
    "lamda = 0.2\n",
    "alpha = 0.02\n",
    "b = 0\n",
    "iterations = 10000\n",
    "cost_list, theta, b = Ridge_gradient_descent(Xtrain,Ytrain,alpha,iterations,lamda,theta,b)"
   ]
  },
  {
   "cell_type": "code",
   "execution_count": 316,
   "id": "f554ac6c",
   "metadata": {},
   "outputs": [],
   "source": [
    "def predict(x, theta, b):\n",
    "    return x.dot(theta) + b"
   ]
  },
  {
   "cell_type": "code",
   "execution_count": 318,
   "id": "60e2437f",
   "metadata": {},
   "outputs": [],
   "source": [
    "YPredict = predict(Xtest, theta, b)"
   ]
  },
  {
   "cell_type": "code",
   "execution_count": 319,
   "id": "25410de3",
   "metadata": {},
   "outputs": [
    {
     "data": {
      "text/plain": [
       "[<matplotlib.lines.Line2D at 0x7ff618b5ab50>]"
      ]
     },
     "execution_count": 319,
     "metadata": {},
     "output_type": "execute_result"
    },
    {
     "data": {
      "image/png": "[encoded data removed]",
      "text/plain": [
       "<Figure size 432x288 with 1 Axes>"
      ]
     },
     "metadata": {
      "needs_background": "light"
     },
     "output_type": "display_data"
    }
   ],
   "source": [
    "plt.plot(YPredict)"
   ]
  },
  {
   "cell_type": "code",
   "execution_count": 320,
   "id": "11619c12",
   "metadata": {},
   "outputs": [
    {
     "data": {
      "text/plain": [
       "[<matplotlib.lines.Line2D at 0x7ff62a410850>]"
      ]
     },
     "execution_count": 320,
     "metadata": {},
     "output_type": "execute_result"
    },
    {
     "data": {
      "image/png": "[encoded data removed]",
      "text/plain": [
       "<Figure size 432x288 with 1 Axes>"
      ]
     },
     "metadata": {
      "needs_background": "light"
     },
     "output_type": "display_data"
    }
   ],
   "source": [
    "plt.plot(cost_list)"
   ]
  },
  {
   "cell_type": "code",
   "execution_count": 321,
   "id": "eee6d28a",
   "metadata": {},
   "outputs": [],
   "source": [
    "def r2score(y_pred, y):\n",
    "    rss = np.sum((y_pred - y) ** 2)\n",
    "    tss = np.sum((y-y.mean()) ** 2)\n",
    "    \n",
    "    r2 = 1 - (rss / tss)\n",
    "    return r2"
   ]
  },
  {
   "cell_type": "code",
   "execution_count": 322,
   "id": "9ccbcfbb",
   "metadata": {},
   "outputs": [
    {
     "data": {
      "text/plain": [
       "-33.550943903708045"
      ]
     },
     "execution_count": 322,
     "metadata": {},
     "output_type": "execute_result"
    }
   ],
   "source": [
    "r2score(YPredict, Ytest)"
   ]
  },
  {
   "cell_type": "code",
   "execution_count": null,
   "id": "62d79ccc",
   "metadata": {},
   "outputs": [],
   "source": []
  }
 ],
 "metadata": {
  "kernelspec": {
   "display_name": "Python 3 (ipykernel)",
   "language": "python",
   "name": "python3"
  },
  "language_info": {
   "codemirror_mode": {
    "name": "ipython",
    "version": 3
   },
   "file_extension": ".py",
   "mimetype": "text/x-python",
   "name": "python",
   "nbconvert_exporter": "python",
   "pygments_lexer": "ipython3",
   "version": "3.9.7"
  }
 },
 "nbformat": 4,
 "nbformat_minor": 5
}
